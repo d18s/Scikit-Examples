{
 "metadata": {
  "name": "Random_Forests_II"
 }, 
 "nbformat": 2, 
 "worksheets": [
  {
   "cells": [
    {
     "cell_type": "markdown", 
     "source": [
      "#Random Forests II (Wine)", 
      "", 
      "[Preliminaries](#Preliminaries)", 
      "", 
      "[Wine Quality Classifier](#Wine Quality Classifier)", 
      "", 
      "[Wine Alcohol Regression](#Wine Alcohol Regression)", 
      "", 
      "Adapted from: http://blog.yhathq.com/posts/comparing-random-forests-in-python-and-r.html"
     ]
    }, 
    {
     "cell_type": "markdown", 
     "source": [
      "<a id='Preliminaries'></a>", 
      "##Preliminaries", 
      "", 
      "load the libraries"
     ]
    }, 
    {
     "cell_type": "code", 
     "collapsed": true, 
     "input": [
      "import urllib2", 
      "", 
      "from sklearn.ensemble import RandomForestClassifier, RandomForestRegressor", 
      "from sklearn.metrics import r2_score", 
      "import numpy as np", 
      "import pandas as pd", 
      "import pylab as pl", 
      "", 
      "# seed rng for reproducibility", 
      "np.random.seed(1)"
     ], 
     "language": "python", 
     "outputs": [], 
     "prompt_number": 27
    }, 
    {
     "cell_type": "markdown", 
     "source": [
      "get the data"
     ]
    }, 
    {
     "cell_type": "code", 
     "collapsed": false, 
     "input": [
      "data_urls = [\"http://archive.ics.uci.edu/ml/machine-learning-databases/wine-quality/winequality-red.csv\",", 
      "             \"http://archive.ics.uci.edu/ml/machine-learning-databases/wine-quality/winequality-white.csv\"]", 
      "delimiter = ';'", 
      "f = urllib2.urlopen(data_urls[0])", 
      "red_df = pd.read_csv(f, delimiter=delimiter)", 
      "red_df[\"color\"] = \"red\"", 
      "red_df.head()"
     ], 
     "language": "python", 
     "outputs": [], 
     "prompt_number": 28
    }, 
    {
     "cell_type": "code", 
     "collapsed": false, 
     "input": [
      "f = urllib2.urlopen(data_urls[1])", 
      "white_df = pd.read_csv(f, delimiter=delimiter)", 
      "white_df[\"color\"] = \"white\"", 
      "white_df.head()"
     ], 
     "language": "python", 
     "outputs": [], 
     "prompt_number": 29
    }, 
    {
     "cell_type": "code", 
     "collapsed": false, 
     "input": [
      "df = pd.concat([red_df, white_df], axis=0, ignore_index=True)", 
      "df.head()"
     ], 
     "language": "python", 
     "outputs": [], 
     "prompt_number": 30
    }, 
    {
     "cell_type": "markdown", 
     "source": [
      "add labels"
     ]
    }, 
    {
     "cell_type": "code", 
     "collapsed": false, 
     "input": [
      "df['is_red'] = np.where(df.color=='red', 1, 0)", 
      "df['high_quality'] = np.where(df.quality > 6.0, 1, 0)", 
      "df['is_train'] = np.random.uniform(0, 1, len(df)) <= .75", 
      "train, test = df[df['is_train']==True], df[df['is_train']==False]", 
      "train.head()"
     ], 
     "language": "python", 
     "outputs": [], 
     "prompt_number": 31
    }, 
    {
     "cell_type": "markdown", 
     "source": [
      "<a id=\"Wine Quality Classifier\"></a>", 
      "##Wine Quality Classifier", 
      "", 
      "train the classifier"
     ]
    }, 
    {
     "cell_type": "code", 
     "collapsed": false, 
     "input": [
      "cols = train.columns[range(11) + [13]]  # include is_red feature", 
      "print(\"Classifier features: {}\".format(\", \".join(list(cols))))", 
      "", 
      "# n_estimators - The number of trees in the forest.", 
      "# max_features - The number of features to consider when looking for the best split.", 
      "# min_samples_split - The minimum number of samples required to split an internal node. I.e., don't split a node with less than this.", 
      "clf = RandomForestClassifier(n_estimators=20, max_features=9, min_samples_split=5)", 
      "clf.fit(train[cols], train.quality)"
     ], 
     "language": "python", 
     "outputs": [], 
     "prompt_number": 32
    }, 
    {
     "cell_type": "markdown", 
     "source": [
      "evaluate quality classifier and print confusion matrix and accuracy"
     ]
    }, 
    {
     "cell_type": "code", 
     "collapsed": false, 
     "input": [
      "pd.crosstab(test.quality, clf.predict(test[cols]), rownames=[\"Actual\"], colnames=[\"Predictions\"])"
     ], 
     "language": "python", 
     "outputs": [], 
     "prompt_number": 33
    }, 
    {
     "cell_type": "code", 
     "collapsed": false, 
     "input": [
      "round(np.sum(test.quality==clf.predict(test[cols])) / float(len(test)), 2)"
     ], 
     "language": "python", 
     "outputs": [], 
     "prompt_number": 34
    }, 
    {
     "cell_type": "markdown", 
     "source": [
      "<a id=\"Wine Alcohol Regression\"></a>", 
      "##Wine Alcohol Regression", 
      "", 
      "train the classifier"
     ]
    }, 
    {
     "cell_type": "code", 
     "collapsed": false, 
     "input": [
      "cols = ['is_red', 'fixed acidity', 'density', 'pH']", 
      "assert(len(set(train.columns) & set(cols)) == len(cols))", 
      "rf = RandomForestRegressor(n_estimators=20)", 
      "rf.fit(train[cols], train.alcohol)"
     ], 
     "language": "python", 
     "outputs": [], 
     "prompt_number": 35
    }, 
    {
     "cell_type": "markdown", 
     "source": [
      "run the classifier and print the $R^2$ ( http://en.wikipedia.org/wiki/Coefficient_of_determination ) and $\\mathit{MSE}$ ( http://en.wikipedia.org/wiki/Mean_squared_error )"
     ]
    }, 
    {
     "cell_type": "code", 
     "collapsed": false, 
     "input": [
      "predictions = rf.predict(test[cols])", 
      "r2 = round(r2_score(test.alcohol, predictions), 2)", 
      "print(\"R^2: {}\".format(r2))", 
      "", 
      "mse = round(np.mean((test.alcohol - predictions) ** 2), 2)", 
      "print(\"MSE: {}\".format(mse))"
     ], 
     "language": "python", 
     "outputs": [], 
     "prompt_number": 36
    }, 
    {
     "cell_type": "markdown", 
     "source": [
      "plot the data and the fitted line"
     ]
    }, 
    {
     "cell_type": "code", 
     "collapsed": false, 
     "input": [
      "pl.scatter(test.alcohol, predictions)", 
      "pl.plot(np.arange(8, 15), np.arange(8, 15), label=\"r^2={}\".format(r2), c=\"r\")", 
      "pl.legend(loc=\"lower right\")", 
      "pl.xlabel(\"True Alcohol\")", 
      "pl.ylabel(\"Predicted Alcohol\")", 
      "pl.title(\"Wine Alcohol Random Forest Regression with scikit-learn\")", 
      "pl.show()"
     ], 
     "language": "python", 
     "outputs": [], 
     "prompt_number": 37
    }
   ]
  }
 ]
}