{
 "metadata": {
  "name": "Random_Forests"
 }, 
 "nbformat": 2, 
 "worksheets": [
  {
   "cells": [
    {
     "cell_type": "markdown", 
     "source": [
      "#Random Forests I (Iris)", 
      "", 
      "Great intuition from Edwin Chen here: http://www.quora.com/Machine-Learning/How-do-random-forests-work-in-laymans-terms/answer/Edwin-Chen-1", 
      "", 
      "Also includes a description of bagging (bootstrap aggregating) data to form another kind of random forest.", 
      "", 
      "Decision Trees: http://scikit-learn.org/stable/modules/tree.html", 
      "", 
      "Random Forests: http://scikit-learn.org/stable/modules/ensemble.html, specifically http://scikit-learn.org/stable/modules/ensemble.html#forests-of-randomized-trees", 
      "", 
      "Feature importance / selection: http://scikit-learn.org/stable/auto_examples/ensemble/plot_forest_importances.html", 
      "", 
      "From http://en.wikipedia.org/wiki/Random_forest: \"Typically, for a dataset with $p$ features, $\\sqrt{p}$ features are used in each split.\"", 
      "", 
      "Following example adapted from: http://blog.yhathq.com/posts/random-forests-in-python.html"
     ]
    }, 
    {
     "cell_type": "markdown", 
     "source": [
      "##Preliminaries", 
      "", 
      "load libraries"
     ]
    }, 
    {
     "cell_type": "code", 
     "collapsed": true, 
     "input": [
      "from sklearn.datasets import load_iris", 
      "from sklearn.ensemble import RandomForestClassifier", 
      "import pandas as pd", 
      "import numpy as np", 
      "", 
      "try:", 
      "    pd.Factor", 
      "except AttributeError:", 
      "    pd.Factor = pd.Categorical", 
      "", 
      "# seed rng for reproducibility", 
      "np.random.seed(1)"
     ], 
     "language": "python", 
     "outputs": [], 
     "prompt_number": 1
    }, 
    {
     "cell_type": "markdown", 
     "source": [
      "load dataset and add category labels and randomly assign train/test labels"
     ]
    }, 
    {
     "cell_type": "code", 
     "collapsed": true, 
     "input": [
      "iris = load_iris()", 
      "df = pd.DataFrame(iris.data, columns=iris.feature_names)", 
      "df['is_train'] = np.random.uniform(0, 1, len(df)) <= .75", 
      "df['species'] = pd.Factor(iris.target, iris.target_names)", 
      "df.head()"
     ], 
     "language": "python", 
     "outputs": [], 
     "prompt_number": 2
    }, 
    {
     "cell_type": "markdown", 
     "source": [
      "split into train and test sets"
     ]
    }, 
    {
     "cell_type": "code", 
     "collapsed": true, 
     "input": [
      "train, test = df[df['is_train']==True], df[df['is_train']==False]"
     ], 
     "language": "python", 
     "outputs": [], 
     "prompt_number": 3
    }, 
    {
     "cell_type": "markdown", 
     "source": [
      "##Iris Species Classifier", 
      "", 
      "define features and train classifier"
     ]
    }, 
    {
     "cell_type": "code", 
     "collapsed": true, 
     "input": [
      "features = df.columns[:4]", 
      "print(\"Classifier features: {}\".format(\", \".join(features)))", 
      "# n_jobs - The number of jobs to run in parallel for both `fit` and `predict`.", 
      "clf = RandomForestClassifier(n_jobs=2)", 
      "y, _ = pd.factorize(train['species'])", 
      "clf.fit(train[features], y)"
     ], 
     "language": "python", 
     "outputs": [], 
     "prompt_number": 4
    }, 
    {
     "cell_type": "markdown", 
     "source": [
      "run classifier on test and print confusion matrix and accuracy"
     ]
    }, 
    {
     "cell_type": "code", 
     "collapsed": true, 
     "input": [
      "predictions = iris.target_names[clf.predict(test[features])]", 
      "pd.crosstab(test['species'], predictions, rownames=['Actual'], colnames=['Predictions'])"
     ], 
     "language": "python", 
     "outputs": [], 
     "prompt_number": 5
    }, 
    {
     "cell_type": "code", 
     "collapsed": true, 
     "input": [
      "round(np.sum(test.species==predictions) / float(len(test)), 2)"
     ], 
     "language": "python", 
     "outputs": [], 
     "prompt_number": 7
    }
   ]
  }
 ]
}