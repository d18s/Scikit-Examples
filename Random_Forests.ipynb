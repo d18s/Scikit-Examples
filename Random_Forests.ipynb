{
 "metadata": {
  "name": "Random_Forests"
 }, 
 "nbformat": 2, 
 "worksheets": [
  {
   "cells": [
    {
     "cell_type": "markdown", 
     "source": [
      "Taken from: http://blog.yhathq.com/posts/random-forests-in-python.html"
     ]
    }, 
    {
     "cell_type": "markdown", 
     "source": [
      "load libraries"
     ]
    }, 
    {
     "cell_type": "code", 
     "collapsed": false, 
     "input": [
      "from sklearn.datasets import load_iris", 
      "from sklearn.ensemble import RandomForestClassifier", 
      "import pandas as pd", 
      "import numpy as np", 
      "", 
      "try:", 
      "    pd.Factor", 
      "except AttributeError:", 
      "    pd.Factor = pd.Categorical"
     ], 
     "language": "python", 
     "outputs": [], 
     "prompt_number": 3
    }, 
    {
     "cell_type": "markdown", 
     "source": [
      "load dataset and add category labels and randomly assign train/test labels"
     ]
    }, 
    {
     "cell_type": "code", 
     "collapsed": false, 
     "input": [
      "iris = load_iris()", 
      "df = pd.DataFrame(iris.data, columns=iris.feature_names)", 
      "df['is_train'] = np.random.uniform(0, 1, len(df)) <= .75", 
      "df['species'] = pd.Factor(iris.target, iris.target_names)", 
      "df.head()"
     ], 
     "language": "python", 
     "outputs": [], 
     "prompt_number": 4
    }, 
    {
     "cell_type": "markdown", 
     "source": [
      "split into train and test sets"
     ]
    }, 
    {
     "cell_type": "code", 
     "collapsed": true, 
     "input": [
      "train, test = df[df['is_train']==True], df[df['is_train']==False]"
     ], 
     "language": "python", 
     "outputs": [], 
     "prompt_number": 5
    }, 
    {
     "cell_type": "markdown", 
     "source": [
      "define features and train classifier"
     ]
    }, 
    {
     "cell_type": "code", 
     "collapsed": false, 
     "input": [
      "features = df.columns[:4]", 
      "clf = RandomForestClassifier(n_jobs=2)", 
      "y, _ = pd.factorize(train['species'])", 
      "clf.fit(train[features], y)"
     ], 
     "language": "python", 
     "outputs": [], 
     "prompt_number": 6
    }, 
    {
     "cell_type": "markdown", 
     "source": [
      "run classifier on test and print confusion matrix"
     ]
    }, 
    {
     "cell_type": "code", 
     "collapsed": false, 
     "input": [
      "preds = iris.target_names[clf.predict(test[features])]", 
      "pd.crosstab(test['species'], preds, rownames=['actual'], colnames=['preds'])"
     ], 
     "language": "python", 
     "outputs": [], 
     "prompt_number": 7
    }
   ]
  }
 ]
}